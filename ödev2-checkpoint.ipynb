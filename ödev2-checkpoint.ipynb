{
 "cells": [
  {
   "cell_type": "code",
   "execution_count": null,
   "metadata": {},
   "outputs": [],
   "source": [
    "# Kullanıcıdan maaş bilgisini alma\n",
    "maas = float(input(\"Maaşınızı girin: \"))\n",
    "\n",
    "# Vergi oranını belirleme\n",
    "if maas <= 10000:\n",
    "    vergi_orani = 0.05\n",
    "elif maas <= 25000:\n",
    "    vergi_orani = 0.10\n",
    "elif maas <= 45000:\n",
    "    vergi_orani = 0.25\n",
    "else:\n",
    "    vergi_orani = 0.30\n",
    "\n",
    "# Vergi kesintisini hesaplama\n",
    "vergi_kesintisi = maas * vergi_orani\n",
    "\n",
    "# Yeni maaşı hesaplama\n",
    "yeni_maas = maas - vergi_kesintisi\n",
    "\n",
    "# Sonuçları yazdırma\n",
    "print(\"Vergi Kesintisi:\", vergi_kesintisi)\n",
    "print(\"Yeni Maaş:\", yeni_maas)"
   ]
  },
  {
   "cell_type": "code",
   "execution_count": null,
   "metadata": {},
   "outputs": [],
   "source": [
    "# Kullanıcıdan kullanıcı adı ve şifre alma\n",
    "kullanici_adi = input(\"Kullanıcı adınızı girin: \")\n",
    "sifre = input(\"Şifrenizi girin: \")\n",
    "\n",
    "# Şifre uzunluğunu kontrol etme\n",
    "if len(sifre) >= 6:\n",
    "    print(\"Hesabınız oluşturuldu.\")\n",
    "else:\n",
    "    print(\"Şifreniz en az altı haneli olmalıdır.\")"
   ]
  },
  {
   "cell_type": "code",
   "execution_count": null,
   "metadata": {},
   "outputs": [],
   "source": [
    "while True:\n",
    "    # Kullanıcıdan kullanıcı adı alma\n",
    "    kullanici_adi = input(\"Kullanıcı adınızı girin: \")\n",
    "    \n",
    "    # Kullanıcıdan şifre alma\n",
    "    sifre = input(\"Şifrenizi girin (5-10 haneli olmalı): \")\n",
    "    \n",
    "    # Şifre uzunluğunu kontrol etme\n",
    "    if 5 <= len(sifre) <= 10:\n",
    "        print(\"Hesabınız oluşturuldu.\")\n",
    "        break  # Döngüden çık\n",
    "    else:\n",
    "        print(\"Lütfen girdiniz şifre 5 haneden az 10 haneden fazla olmasın!\")"
   ]
  },
  {
   "cell_type": "code",
   "execution_count": null,
   "metadata": {},
   "outputs": [],
   "source": [
    "# Önceden tanımlı şifre\n",
    "dogru_sifre = \"gelecekhayalim123\"\n",
    "\n",
    "# Kullanıcıdan isim alma\n",
    "isim = input(\"İsminizi girin: \")\n",
    "\n",
    "# Deneme hakkı\n",
    "hak = 3\n",
    "\n",
    "while hak > 0:\n",
    "    # Kullanıcıdan şifre alma\n",
    "    sifre = input(\"Şifrenizi girin: \")\n",
    "    \n",
    "    # Şifre kontrolü\n",
    "    if sifre == dogru_sifre:\n",
    "        print(\"Giriş yapıldı.\")\n",
    "        break  # Döngüden çık\n",
    "    else:\n",
    "        hak -= 1  # Hakkı bir azalt\n",
    "        print(\"Yanlış şifre girildi! Kalan hak:\", hak)\n",
    "\n",
    "# Hakkı bitince mesaj\n",
    "if hak == 0:\n",
    "    print(\"Üç yanlış deneme yapıldı. Program sonlandırılıyor.\")"
   ]
  }
 ],
 "metadata": {
  "kernelspec": {
   "display_name": "Python 3",
   "language": "python",
   "name": "python3"
  },
  "language_info": {
   "codemirror_mode": {
    "name": "ipython",
    "version": 3
   },
   "file_extension": ".py",
   "mimetype": "text/x-python",
   "name": "python",
   "nbconvert_exporter": "python",
   "pygments_lexer": "ipython3",
   "version": "3.8.5"
  }
 },
 "nbformat": 4,
 "nbformat_minor": 4
}
